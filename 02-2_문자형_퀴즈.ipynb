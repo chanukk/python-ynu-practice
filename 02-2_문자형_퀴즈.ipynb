{
 "cells": [
  {
   "cell_type": "markdown",
   "metadata": {},
   "source": [
    "1. 사용자로부터 문자를 입력받아 문자의 길이를 출력하는 프로그램을 만드세요."
   ]
  },
  {
   "cell_type": "code",
   "execution_count": 31,
   "metadata": {},
   "outputs": [
    {
     "name": "stdout",
     "output_type": "stream",
     "text": [
      "7\n"
     ]
    }
   ],
   "source": [
    "a = input(\"문자를 입력하세요\")\n",
    "# 답안, 해설\n",
    "print(len(a))"
   ]
  },
  {
   "cell_type": "markdown",
   "metadata": {},
   "source": [
    "2. 사용자로부터 문자를 입력받아 첫 글자와 마지막 글자를 출력하는 프로그램을 만드세요. "
   ]
  },
  {
   "cell_type": "code",
   "execution_count": 45,
   "metadata": {},
   "outputs": [
    {
     "name": "stdout",
     "output_type": "stream",
     "text": [
      "한원\n",
      "첫번째 입력한 문자는 : 한\n",
      "마지막 입력한 문자는 : 원\n"
     ]
    }
   ],
   "source": [
    "a = input(\"문자를 입력하세요\")\n",
    "\n",
    "# 답안\n",
    "print(a[0] + a[-1])\n",
    "\n",
    "# 해설\n",
    "print(f\"첫번째 입력한 문자는 : {a[0]}\\n마지막 입력한 문자는 : {a[-1]}\")"
   ]
  },
  {
   "cell_type": "markdown",
   "metadata": {},
   "source": [
    "3. 사용자가 입력한 반지름을 사용하여 원의 면적을 계산하는 프로그램을 만드세요(원의면적은: (3.14) * 반지름의 제곱)"
   ]
  },
  {
   "cell_type": "code",
   "execution_count": 48,
   "metadata": {},
   "outputs": [
    {
     "name": "stdout",
     "output_type": "stream",
     "text": [
      "78.5\n",
      "78.5\n",
      "반지름은 5이고, 원의 면적은 3.14입니다\n"
     ]
    }
   ],
   "source": [
    "# 답안\n",
    "a = int(input(\"원의 반지름을 입력하세요\"))\n",
    "b = 3.14\n",
    "c = 2\n",
    "\n",
    "print(f\"{b * a ** c}\")\n",
    "\n",
    "# 해설\n",
    "r = input(\"반지름 값을 입력해주세요 : \")\n",
    "print(3.14 * (int(r) ** 2))\n",
    "print(f\"반지름은 {r}이고, 원의 면적은 {3.14}입니다\")\n",
    "\n",
    "# r = int(input(\"반지름 값을 입력해주세요 : \"))\n",
    "# print(3.14 * (r ** 2))"
   ]
  },
  {
   "cell_type": "markdown",
   "metadata": {},
   "source": [
    "4. 3번의 숫자를 입력을 받아 평균을 구하는 프로그램을 만드세요."
   ]
  },
  {
   "cell_type": "code",
   "execution_count": 49,
   "metadata": {},
   "outputs": [
    {
     "name": "stdout",
     "output_type": "stream",
     "text": [
      "20.0\n",
      "첫 번째 입력값은 10, 두 번째 입력값은 20, 세 번째 입력값은 30\n",
      "평균은 20.0 입니다.\n"
     ]
    }
   ],
   "source": [
    "# 답안\n",
    "a = int(input(\"첫 번째 숫자를 입력하세요.\"))\n",
    "b = int(input(\"두 번째 숫자를 입력하세요.\"))\n",
    "c = int(input(\"세 번째 숫자를 입력하세요\"))\n",
    "\n",
    "print(f\"{(a + b + c) / 3}\")\n",
    "\n",
    "# 해설\n",
    "d = int(input(\"첫 번째 숫자를 입력하세요.\"))\n",
    "e = int(input(\"두 번째 숫자를 입력하세요.\"))\n",
    "f = int(input(\"세 번째 숫자를 입력하세요\"))\n",
    "print(f\"첫 번째 입력값은 {d}, 두 번째 입력값은 {e}, 세 번째 입력값은 {f}\\n평균은 {(d + e + f)/3} 입니다.\")"
   ]
  },
  {
   "cell_type": "markdown",
   "metadata": {},
   "source": [
    "5. 아래 문자열에서 문자열 슬라이싱을 사용하여 '금메달'을 추출해 주세요\n",
    "* a = \"“잠자는 경기장의 공주” 낮잠 자고 일어나 금메달 딴 女선수 화제\""
   ]
  },
  {
   "cell_type": "code",
   "execution_count": 50,
   "metadata": {},
   "outputs": [
    {
     "name": "stdout",
     "output_type": "stream",
     "text": [
      "금메달\n",
      "금메달\n"
     ]
    }
   ],
   "source": [
    "# 답안 = 해설\n",
    "a = \"\\\"잠자는 경기장의 공주\\\" 낮잠 자고 일어나 금메달 딴 女선수 화제\"\n",
    "\n",
    "print(a[24:27])"
   ]
  },
  {
   "cell_type": "markdown",
   "metadata": {},
   "source": [
    "6. 5번 문제에서의 문자열 중 '공주'를 '왕자'로 바꿔주세요"
   ]
  },
  {
   "cell_type": "code",
   "execution_count": 41,
   "metadata": {},
   "outputs": [
    {
     "name": "stdout",
     "output_type": "stream",
     "text": [
      "\"잠자는 경기장의 왕자\" 낮잠 자고 일어나 금메달 딴 女선수 화제\n"
     ]
    }
   ],
   "source": [
    "# 답안 = 해설\n",
    "a = \"\\\"잠자는 경기장의 공주\\\" 낮잠 자고 일어나 금메달 딴 女선수 화제\"\n",
    "\n",
    "print(a.replace(\"공주\", \"왕자\"))"
   ]
  },
  {
   "cell_type": "markdown",
   "metadata": {},
   "source": [
    "7. a = \"himzei@gmail.com\" 에서 find() 함수를 이용하여 'himzei'만 추출하세요 "
   ]
  },
  {
   "cell_type": "code",
   "execution_count": 53,
   "metadata": {},
   "outputs": [
    {
     "name": "stdout",
     "output_type": "stream",
     "text": [
      "himzei\n",
      "himzei\n"
     ]
    }
   ],
   "source": [
    "# 해설\n",
    "a = \"himzei@gmail.com\"\n",
    "\n",
    "# num = a.find(\"@\")\n",
    "\n",
    "print(a[0:num])\n",
    "print(a[0:a.find(\"@\")])\n"
   ]
  },
  {
   "cell_type": "markdown",
   "metadata": {},
   "source": [
    "8. 이름, 취미, MBTI를 입력받아 변수에 담은 뒤, 출력하세요(3가지 문자열 출력방법 활용 ex)%s, format(), f\"\")"
   ]
  },
  {
   "cell_type": "code",
   "execution_count": 56,
   "metadata": {},
   "outputs": [],
   "source": [
    "# 해설\n",
    "\n",
    "name = input(\"이름을 입력 : \")\n",
    "hobby = input(\"취미을 입력 : \")\n",
    "mbti = input(\"MBTI을 입력 : \")\n",
    "\n",
    "print(\"이름 : %s\\n취미 : %s\\nMBTI : %s\" %(name, hobby, mbti))"
   ]
  },
  {
   "cell_type": "code",
   "execution_count": null,
   "metadata": {},
   "outputs": [],
   "source": []
  }
 ],
 "metadata": {
  "kernelspec": {
   "display_name": "Python 3",
   "language": "python",
   "name": "python3"
  },
  "language_info": {
   "codemirror_mode": {
    "name": "ipython",
    "version": 3
   },
   "file_extension": ".py",
   "mimetype": "text/x-python",
   "name": "python",
   "nbconvert_exporter": "python",
   "pygments_lexer": "ipython3",
   "version": "3.12.4"
  }
 },
 "nbformat": 4,
 "nbformat_minor": 2
}
