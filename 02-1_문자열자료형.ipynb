{
 "cells": [
  {
   "cell_type": "markdown",
   "metadata": {},
   "source": [
    "### 문자열은 어떻게 사용할까?\n",
    "> 문자열"
   ]
  },
  {
   "cell_type": "code",
   "execution_count": 3,
   "metadata": {},
   "outputs": [
    {
     "name": "stdout",
     "output_type": "stream",
     "text": [
      "Hello World\n",
      "<class 'str'>\n"
     ]
    }
   ],
   "source": [
    "# 큰따옴표\n",
    "a = \"Hello World\"\n",
    "\n",
    "print(a)\n",
    "print(type(a))\n"
   ]
  },
  {
   "cell_type": "code",
   "execution_count": 5,
   "metadata": {},
   "outputs": [
    {
     "name": "stdout",
     "output_type": "stream",
     "text": [
      "Python is fun\n",
      "<class 'str'>\n"
     ]
    }
   ],
   "source": [
    "# 작음따옴표\n",
    "b = 'Python is fun'\n",
    "\n",
    "print(b)\n",
    "print(type(b))"
   ]
  },
  {
   "cell_type": "code",
   "execution_count": 6,
   "metadata": {},
   "outputs": [
    {
     "name": "stdout",
     "output_type": "stream",
     "text": [
      "Life is too short, You need python\n",
      "<class 'str'>\n"
     ]
    }
   ],
   "source": [
    "# 큰따옴표 3개\n",
    "c = \"\"\"Life is too short, You need python\"\"\"\n",
    "\n",
    "print(c)\n",
    "print(type(c))"
   ]
  },
  {
   "cell_type": "code",
   "execution_count": 7,
   "metadata": {},
   "outputs": [
    {
     "name": "stdout",
     "output_type": "stream",
     "text": [
      "Life is too short, You need python\n",
      "<class 'str'>\n"
     ]
    }
   ],
   "source": [
    "# 작은따옴표 3개\n",
    "d = '''Life is too short, You need python'''\n",
    "\n",
    "print(d)\n",
    "print(type(d))"
   ]
  },
  {
   "cell_type": "code",
   "execution_count": 12,
   "metadata": {},
   "outputs": [
    {
     "name": "stdout",
     "output_type": "stream",
     "text": [
      "Python's favorite food is perl\n"
     ]
    }
   ],
   "source": [
    "# 문자열 안에 작은따옴표 포함시키기\n",
    "food = \"Python's favorite food is perl\"\n",
    "\n",
    "print(food)"
   ]
  },
  {
   "cell_type": "code",
   "execution_count": 13,
   "metadata": {},
   "outputs": [
    {
     "name": "stdout",
     "output_type": "stream",
     "text": [
      "\"Python is very easy.\" he says\n"
     ]
    }
   ],
   "source": [
    "# 문자열 안에 큰따옴표 포함시키기\n",
    "say = '\"Python is very easy.\" he says'\n",
    "\n",
    "print(say)"
   ]
  },
  {
   "cell_type": "code",
   "execution_count": 15,
   "metadata": {},
   "outputs": [
    {
     "name": "stdout",
     "output_type": "stream",
     "text": [
      "Python's favorite food is perl\n",
      "\"Python is very easy.\" he says.\n"
     ]
    }
   ],
   "source": [
    "# 역슬래시를 사용해 작은따옴표와 큰따옴표 포함시키기\n",
    "food = 'Python\\'s favorite food is perl'\n",
    "say = \"\\\"Python is very easy.\\\" he says.\"\n",
    "\n",
    "print(food)\n",
    "print(say)\n"
   ]
  },
  {
   "cell_type": "markdown",
   "metadata": {},
   "source": [
    "### 여러 줄 문자열 표현"
   ]
  },
  {
   "cell_type": "code",
   "execution_count": 18,
   "metadata": {},
   "outputs": [
    {
     "name": "stdout",
     "output_type": "stream",
     "text": [
      "Life is too short\n",
      "You need python\n"
     ]
    }
   ],
   "source": [
    "# 이스케이프 코드 \\n (줄바꿈 코드)\n",
    "multiline = \"Life is too short\\nYou need python\"\n",
    "\n",
    "print(multiline)"
   ]
  },
  {
   "cell_type": "code",
   "execution_count": 22,
   "metadata": {},
   "outputs": [
    {
     "name": "stdout",
     "output_type": "stream",
     "text": [
      " \n",
      "Life is too short\n",
      "You need python\n",
      "\n"
     ]
    }
   ],
   "source": [
    "# 작은따옴표 3개, 큰따옴표 3개 활용\n",
    "# 문자 전체 블락 처리 후 Tab --> 한번에 뒤로 이동\n",
    "# Shift + Tab --> Tab 간격 만큼 앞으로 이동\n",
    "\n",
    "multiline = ''' \n",
    "Life is too short\n",
    "You need python\n",
    "'''\n",
    "\n",
    "print(multiline)"
   ]
  },
  {
   "cell_type": "markdown",
   "metadata": {},
   "source": [
    "### 문자열 연산"
   ]
  },
  {
   "cell_type": "code",
   "execution_count": 23,
   "metadata": {},
   "outputs": [
    {
     "name": "stdout",
     "output_type": "stream",
     "text": [
      "Python is fun!\n"
     ]
    }
   ],
   "source": [
    "# 문자열 더하기\n",
    "# 문자열은 더하기 & 곱하기 연산만 가능\n",
    "# 빼기 & 나누기 연산은 불가능\n",
    "head = \"Python\"\n",
    "tail = \" is fun!\"\n",
    "\n",
    "print (head + tail)"
   ]
  },
  {
   "cell_type": "code",
   "execution_count": 24,
   "metadata": {},
   "outputs": [
    {
     "name": "stdout",
     "output_type": "stream",
     "text": [
      "PythonPythonPythonPythonPython\n"
     ]
    }
   ],
   "source": [
    "# 문자열 곱하기\n",
    "a = \"Python\"\n",
    "\n",
    "print(a * 5)"
   ]
  },
  {
   "cell_type": "code",
   "execution_count": 27,
   "metadata": {},
   "outputs": [
    {
     "name": "stdout",
     "output_type": "stream",
     "text": [
      "============================================\n",
      "==================================================\n",
      "My Program\n",
      "============================================================\n"
     ]
    }
   ],
   "source": [
    "# 문자열 곱하기 응용\n",
    "\n",
    "print(\"============================================\")\n",
    "print(\"=\" * 50)\n",
    "print(\"My Program\")\n",
    "print(\"=\" * 60)"
   ]
  },
  {
   "cell_type": "code",
   "execution_count": 28,
   "metadata": {},
   "outputs": [
    {
     "data": {
      "text/plain": [
       "17"
      ]
     },
     "execution_count": 28,
     "metadata": {},
     "output_type": "execute_result"
    }
   ],
   "source": [
    "# 문자열 길이 구하기 len() \n",
    "# len --> length의 약자\n",
    "a = \"Life is too short\"\n",
    "len(a)"
   ]
  },
  {
   "cell_type": "code",
   "execution_count": 32,
   "metadata": {},
   "outputs": [
    {
     "data": {
      "text/plain": [
       "6"
      ]
     },
     "execution_count": 32,
     "metadata": {},
     "output_type": "execute_result"
    }
   ],
   "source": [
    "# 공백을 포함해서 길이 측정\n",
    "b = \"Python\"\n",
    "len(b)"
   ]
  },
  {
   "cell_type": "markdown",
   "metadata": {},
   "source": [
    "### 문자열 인덱싱과 슬라이싱\n",
    "> 인덱싱"
   ]
  },
  {
   "cell_type": "code",
   "execution_count": 39,
   "metadata": {},
   "outputs": [
    {
     "name": "stdout",
     "output_type": "stream",
     "text": [
      "34\n",
      "L\n",
      "i\n",
      "n\n",
      "Life\n"
     ]
    }
   ],
   "source": [
    "# Python에서는 첫 번째 값은 0, 마지막 값은 -1로 추출 가능\n",
    "a = \"Life is too short, You need Python\"\n",
    "\n",
    "print(len(a))\n",
    "print(a[0])\n",
    "print(a[1])\n",
    "print(a[-1])\n",
    "print(a[0] + a[1] + a[2] + a[3])"
   ]
  },
  {
   "cell_type": "markdown",
   "metadata": {},
   "source": [
    "> 슬라이싱"
   ]
  },
  {
   "cell_type": "code",
   "execution_count": 48,
   "metadata": {},
   "outputs": [
    {
     "name": "stdout",
     "output_type": "stream",
     "text": [
      "Life\n",
      "Life is\n",
      "short\n",
      "==================================================\n",
      "Lif\n"
     ]
    }
   ],
   "source": [
    "# 슬라이싱 할 때 가지고 오고자 하는 문자 다음 번 숫자 입력 ex) 4번째 순서 미만의 문자 추출\n",
    "a = \"Life is too short, You need Python\"\n",
    "\n",
    "print(a[0:4])\n",
    "print(a[0:7])\n",
    "print(a[12:17])\n",
    "print(\"=\" * 50)\n",
    "print(a[0:3])"
   ]
  },
  {
   "cell_type": "code",
   "execution_count": 57,
   "metadata": {},
   "outputs": [
    {
     "name": "stdout",
     "output_type": "stream",
     "text": [
      "You need Python\n",
      "You need Python\n",
      "==================================================\n",
      "Life is too short\n",
      "Life is too short\n",
      "==================================================\n",
      "Life is too short, You need Python\n",
      "Life is too short, You need Python\n"
     ]
    }
   ],
   "source": [
    "a = \"Life is too short, You need Python\"\n",
    "\n",
    "# 추출하고자 하는 마지막  문자의 순서 생략 가능\n",
    "print(a[19:34])\n",
    "print(a[19:])\n",
    "\n",
    "print(\"=\" * 50)\n",
    "# 추출하고자 하는 첫 번째 문자의 순서 생략 가능\n",
    "print(a[0:17])\n",
    "print(a[:17])\n",
    "\n",
    "print(\"=\" * 50)\n",
    "# 순서 입력하지 않고 : 만 입력 --> 전체 문장 추출\n",
    "print(a)\n",
    "print(a[:])\n"
   ]
  },
  {
   "cell_type": "code",
   "execution_count": 59,
   "metadata": {},
   "outputs": [
    {
     "name": "stdout",
     "output_type": "stream",
     "text": [
      "2024\n",
      "0806\n",
      "Sunny\n"
     ]
    }
   ],
   "source": [
    "a = \"20240806Sunny\"\n",
    "\n",
    "year = a[0:4]\n",
    "day = a[4:8]\n",
    "weather = a[8:]\n",
    "\n",
    "print(year)\n",
    "print(day)\n",
    "print(weather)\n"
   ]
  },
  {
   "cell_type": "markdown",
   "metadata": {},
   "source": [
    "퀴즈 1\n",
    "* a = \"20240806Sunny\"\n",
    "* 출력값을 2024년 08월 06일, 오늘의 날씨 Sunny 입니다."
   ]
  },
  {
   "cell_type": "code",
   "execution_count": 65,
   "metadata": {},
   "outputs": [
    {
     "name": "stdout",
     "output_type": "stream",
     "text": [
      "2024년08월06일, 오늘의 날씨는Sunny입니다.\n"
     ]
    }
   ],
   "source": [
    "# 답안\n",
    "a = \"20240806Sunny\"\n",
    "\n",
    "year = a[0:4]\n",
    "month = a[4:6]\n",
    "day = a[6:8]\n",
    "weahter = a[8:]\n",
    "\n",
    "print(year + \"년\" + month + \"월\" + day + \"일, 오늘의 날씨는\" + weather + \"입니다.\")"
   ]
  },
  {
   "cell_type": "code",
   "execution_count": 68,
   "metadata": {},
   "outputs": [
    {
     "name": "stdout",
     "output_type": "stream",
     "text": [
      "2024년 08월 06일, 오늘의 날씨는 Sunny 입니다.\n"
     ]
    }
   ],
   "source": [
    "# 해설\n",
    "a = \"20240806Sunny\"\n",
    "\n",
    "year = a[0:4]\n",
    "month = a[4:6]\n",
    "day = a[6:8]\n",
    "weahter = a[8:]\n",
    "\n",
    "print(f\"{year}년 {month}월 {day}일, 오늘의 날씨는 {weather} 입니다.\")\n"
   ]
  },
  {
   "cell_type": "code",
   "execution_count": 1,
   "metadata": {},
   "outputs": [
    {
     "name": "stdout",
     "output_type": "stream",
     "text": [
      "Python\n"
     ]
    }
   ],
   "source": [
    "# 문자열 바꾸기\n",
    "a = \"Pithon\"\n",
    "a = a[0] + \"y\" + a[2:]\n",
    "\n",
    "print(a)"
   ]
  },
  {
   "cell_type": "markdown",
   "metadata": {},
   "source": [
    "### 문자열 포매팅"
   ]
  },
  {
   "cell_type": "code",
   "execution_count": 12,
   "metadata": {},
   "outputs": [
    {
     "name": "stdout",
     "output_type": "stream",
     "text": [
      "I eat %d apples\n",
      "I eat 3 apples\n",
      "I eat 100 apples\n"
     ]
    }
   ],
   "source": [
    "# 숫자 바로 대입\n",
    "a = 100\n",
    "\n",
    "print(\"I eat %d apples\")\n",
    "print(\"I eat %d apples\" % 3)\n",
    "print(\"I eat %d apples\" % a)\n"
   ]
  },
  {
   "cell_type": "code",
   "execution_count": 140,
   "metadata": {},
   "outputs": [
    {
     "name": "stdout",
     "output_type": "stream",
     "text": [
      "I eat %s apples\n",
      "I eat five apples\n"
     ]
    }
   ],
   "source": [
    "# 문자열 바로 대입\n",
    "\n",
    "print(\"I eat %s apples\")\n",
    "print(\"I eat %s apples\" % \"five\")"
   ]
  },
  {
   "cell_type": "code",
   "execution_count": 16,
   "metadata": {},
   "outputs": [
    {
     "name": "stdout",
     "output_type": "stream",
     "text": [
      "I eat %d apples\n",
      "I eat 3 apples\n",
      "I eat3apples\n"
     ]
    }
   ],
   "source": [
    "# 숫자 값을 나타내는 변수\n",
    "\n",
    "number = 3\n",
    "print(\"I eat %d apples\")\n",
    "print(\"I eat %d apples\" % number)\n",
    "\n",
    "print(\"I eat\" + str(number) + \"apples\")"
   ]
  },
  {
   "cell_type": "code",
   "execution_count": 18,
   "metadata": {},
   "outputs": [
    {
     "name": "stdout",
     "output_type": "stream",
     "text": [
      "I ate 10 apples. so I was sick for three days.\n"
     ]
    }
   ],
   "source": [
    "# 2개 이상의 값 넣기\n",
    "\n",
    "number = 10\n",
    "day = \"three\"\n",
    "\n",
    "print(\"I ate %d apples. so I was sick for %s days.\" % (number, day))"
   ]
  },
  {
   "cell_type": "code",
   "execution_count": 25,
   "metadata": {},
   "outputs": [
    {
     "name": "stdout",
     "output_type": "stream",
     "text": [
      "정렬과 공백 : hi|\n",
      "정렬과 공백 :         hi|\n",
      "정렬과 공백 : hi        |\n"
     ]
    }
   ],
   "source": [
    "# 정렬과 공백\n",
    "\n",
    "print(\"정렬과 공백 : %s|\" % \"hi\")\n",
    "print(\"정렬과 공백 : %10s|\" % \"hi\")\n",
    "print(\"정렬과 공백 : %-10s|\" % \"hi\")"
   ]
  },
  {
   "cell_type": "code",
   "execution_count": 30,
   "metadata": {},
   "outputs": [
    {
     "name": "stdout",
     "output_type": "stream",
     "text": [
      "소수점 표현 : 3.141259\n",
      "소수점 표현 : 3.1413\n",
      "소수점 표현 : 3.14\n",
      "소수점 표현 :                 3.14|\n",
      "소수점 표현 : 3.14                |\n"
     ]
    }
   ],
   "source": [
    "# 소수점 표현하기\n",
    "\n",
    "a = 3.141259\n",
    "\n",
    "print(\"소수점 표현 : %f\" % a)\n",
    "print(\"소수점 표현 : %0.4f\" % a)\n",
    "print(\"소수점 표현 : %0.2f\" % a)\n",
    "print(\"소수점 표현 : %20.2f|\" % a)\n",
    "print(\"소수점 표현 : %-20.2f|\" % a)\n"
   ]
  },
  {
   "cell_type": "markdown",
   "metadata": {},
   "source": [
    "### format 함수를 사용한 포매팅"
   ]
  },
  {
   "cell_type": "code",
   "execution_count": 41,
   "metadata": {},
   "outputs": [
    {
     "name": "stdout",
     "output_type": "stream",
     "text": [
      "I eat 3 apples\n",
      "I eat 3 apples\n",
      "====================================================================================================\n",
      "I eat five apples\n",
      "I eat five apples\n"
     ]
    }
   ],
   "source": [
    "# 숫자 바로 대입하기\n",
    "\n",
    "print(\"I eat %d apples\" % 3)\n",
    "print(\"I eat {0} apples\".format(3))\n",
    "\n",
    "print(\"=\" * 100)\n",
    "\n",
    "# 문자열 바로 대입하기\n",
    "\n",
    "print(\"I eat %s apples\" % \"five\")\n",
    "print(\"I eat {0} apples\".format(\"five\"))"
   ]
  },
  {
   "cell_type": "code",
   "execution_count": 47,
   "metadata": {},
   "outputs": [
    {
     "name": "stdout",
     "output_type": "stream",
     "text": [
      "I ate {0} apples, so I was sick for {1} days.\n",
      "I ate 10 apples, so I was sick for three days.\n",
      "I ate {number} apples, so I was sick for {day} days.\n",
      "I ate 10 apples, so I was sick for 3 days.\n",
      "I ate 10 apples, so I was sick for 3 days.\n"
     ]
    }
   ],
   "source": [
    "number = 10\n",
    "day = \"three\"\n",
    "\n",
    "print (\"I ate {0} apples, so I was sick for {1} days.\")\n",
    "print (\"I ate {0} apples, so I was sick for {1} days.\".format(number, day))\n",
    "\n",
    "# 이름으로 넣기\n",
    "\n",
    "print (\"I ate {number} apples, so I was sick for {day} days.\")\n",
    "print (\"I ate {number} apples, so I was sick for {day} days.\".format(number=10, day=3))\n",
    "\n",
    "# 인덱스와 혼용으로 사용\n",
    "\n",
    "print (\"I ate {0} apples, so I was sick for {day} days.\".format(number, day=3))\n"
   ]
  },
  {
   "cell_type": "code",
   "execution_count": 58,
   "metadata": {},
   "outputs": [
    {
     "name": "stdout",
     "output_type": "stream",
     "text": [
      "정렬 : hi|\n",
      "정렬 : hi        |\n",
      "정렬 :         hi|\n",
      "정렬 :     hi    |\n"
     ]
    }
   ],
   "source": [
    "# 왼쪽 정렬\n",
    "a = \"hi\"\n",
    "\n",
    "print(\"정렬 : {0}|\".format(a))\n",
    "print(\"정렬 : {0:<10}|\".format(a))\n",
    "\n",
    "# 오른쪽 정렬\n",
    "print(\"정렬 : {0:>10}|\".format(a))\n",
    "\n",
    "# 가운데 정렬\n",
    "print(\"정렬 : {0:^10}|\".format(a))"
   ]
  },
  {
   "cell_type": "code",
   "execution_count": 64,
   "metadata": {},
   "outputs": [
    {
     "name": "stdout",
     "output_type": "stream",
     "text": [
      "공백 hi|\n",
      "공백     hi    |\n",
      "공백 ====hi====|\n",
      "공백 ****hi****|\n"
     ]
    }
   ],
   "source": [
    "# 공백 채우기\n",
    "a = \"hi\"\n",
    "\n",
    "print(\"공백 {0}|\".format(a))\n",
    "print(\"공백 {0:^10}|\".format(a))\n",
    "print(\"공백 {0:=^10}|\".format(a))\n",
    "print(\"공백 {0:*^10}|\".format(a))"
   ]
  },
  {
   "cell_type": "code",
   "execution_count": 70,
   "metadata": {},
   "outputs": [
    {
     "name": "stdout",
     "output_type": "stream",
     "text": [
      "소수점 표현 : \n",
      "소수점 표현 : 3.141596\n",
      "소수점 표현 : 3.1416\n",
      "소수점 표현 : 3.14\n"
     ]
    }
   ],
   "source": [
    "# 소수점 표현하기\n",
    "y = 3.141596\n",
    "\n",
    "print(\"소수점 표현 : \")\n",
    "print(\"소수점 표현 : {0}\".format(y))\n",
    "print(\"소수점 표현 : {0:.4f}\".format(y))\n",
    "print(\"소수점 표현 : {0:.2f}\".format(y))"
   ]
  },
  {
   "cell_type": "markdown",
   "metadata": {},
   "source": [
    "### f 문자열 포매팅"
   ]
  },
  {
   "cell_type": "code",
   "execution_count": 81,
   "metadata": {},
   "outputs": [
    {
     "name": "stdout",
     "output_type": "stream",
     "text": [
      "나의 이름은 홍길동입니다. 나이는 30입니다\n",
      "나의 이름은 홍길동입니다. 나이는 30입니다\n",
      "나의 이름은 홍길동입니다. 나이는 30입니다\n"
     ]
    }
   ],
   "source": [
    "name = \"홍길동\"\n",
    "age = 30\n",
    "\n",
    "#1\n",
    "print(\"나의 이름은 %s입니다. 나이는 %d입니다\" % (name, age))\n",
    "\n",
    "#2\n",
    "print(\"나의 이름은 {0}입니다. 나이는 {1}입니다\" .format(name,age))\n",
    "\n",
    "#3\n",
    "print(f\"나의 이름은 {name}입니다. 나이는 {age}입니다\")\n",
    "\n"
   ]
  },
  {
   "cell_type": "code",
   "execution_count": 82,
   "metadata": {},
   "outputs": [
    {
     "name": "stdout",
     "output_type": "stream",
     "text": [
      "나는 내년이면 31살이 된다\n"
     ]
    }
   ],
   "source": [
    "# f 문자열 포매팅 --> {} 안에서 연산도 가능\n",
    "\n",
    "print(f\"나는 내년이면 {age + 1}살이 된다\")"
   ]
  },
  {
   "cell_type": "code",
   "execution_count": 88,
   "metadata": {},
   "outputs": [
    {
     "name": "stdout",
     "output_type": "stream",
     "text": [
      "나의 이름은 홍길동입니다. 나이는 30입니다.\n"
     ]
    }
   ],
   "source": [
    "# f 문자열에서 딕셔너리 사용\n",
    "d = {\"name\" : \"홍길동\", \"age\" : 30}\n",
    "\n",
    "print(f\"나의 이름은 {d[\"name\"]}입니다. 나이는 {d[\"age\"]}입니다.\")\n"
   ]
  },
  {
   "cell_type": "code",
   "execution_count": 101,
   "metadata": {},
   "outputs": [
    {
     "name": "stdout",
     "output_type": "stream",
     "text": [
      "정렬 : hi|\n",
      "정렬 : hi        |\n",
      "정렬 :         hi|\n",
      "정렬 :     hi    |\n",
      "공백 채우기 : ====hi====|\n",
      "공백 채우기 : ****hi****|\n",
      "소수점 표현 : 3.42134234\n",
      "소수점 표현 : 3.4213\n"
     ]
    }
   ],
   "source": [
    "# f 문자열에서 정렬\n",
    "a = \"hi\"\n",
    "\n",
    "print(f\"정렬 : {a}|\")\n",
    "\n",
    "# 왼쪽 정렬\n",
    "print(f\"정렬 : {a:<10}|\")\n",
    "\n",
    "# 오른쪽 정렬\n",
    "print(f\"정렬 : {a:>10}|\")\n",
    "\n",
    "# 가운데 정렬\n",
    "print(f\"정렬 : {a:^10}|\")\n",
    "\n",
    "# 공백 채우기\n",
    "print(f\"공백 채우기 : {a:=^10}|\")\n",
    "print(f\"공백 채우기 : {a:*^10}|\")\n",
    "\n",
    "# 소수점 표현\n",
    "y = 3.42134234\n",
    "\n",
    "print(f\"소수점 표현 : {y}\")\n",
    "\n",
    "# 소수점 넷째자리까지 표현 --> 다섯째 자리에서 반올림\n",
    "print(f\"소수점 표현 : {y:.4f}\")\n"
   ]
  },
  {
   "cell_type": "markdown",
   "metadata": {},
   "source": [
    "### 문자열 관련 함수들"
   ]
  },
  {
   "cell_type": "markdown",
   "metadata": {},
   "source": [
    "> count, find, index"
   ]
  },
  {
   "cell_type": "code",
   "execution_count": 141,
   "metadata": {},
   "outputs": [
    {
     "name": "stdout",
     "output_type": "stream",
     "text": [
      "5\n",
      "2\n",
      "2\n"
     ]
    }
   ],
   "source": [
    "a = \"hobby\"\n",
    "\n",
    "# len()\n",
    "print(len(a))\n",
    "\n",
    "# count() --> 문자열 안에 포함된 특정 문자의 수\n",
    "print(a.count(\"b\"))\n",
    "print(\"hobby\".count(\"b\"))"
   ]
  },
  {
   "cell_type": "code",
   "execution_count": 111,
   "metadata": {},
   "outputs": [
    {
     "name": "stdout",
     "output_type": "stream",
     "text": [
      "14\n",
      "-1\n"
     ]
    }
   ],
   "source": [
    "# find() --> 문자열 안에 포함된 특정 문자의 위치 알려주기\n",
    "\n",
    "a = \"Python is the best choice\"\n",
    "\n",
    "print(a.find(\"b\"))\n",
    "\n",
    "# find 함수에서 문자열 안에 포함되지 않은 문자는 -1로 반환\n",
    "print(a.find(\"k\"))"
   ]
  },
  {
   "cell_type": "code",
   "execution_count": 113,
   "metadata": {},
   "outputs": [
    {
     "name": "stdout",
     "output_type": "stream",
     "text": [
      "8\n"
     ]
    },
    {
     "ename": "ValueError",
     "evalue": "substring not found",
     "output_type": "error",
     "traceback": [
      "\u001b[1;31m---------------------------------------------------------------------------\u001b[0m",
      "\u001b[1;31mValueError\u001b[0m                                Traceback (most recent call last)",
      "Cell \u001b[1;32mIn[113], line 8\u001b[0m\n\u001b[0;32m      5\u001b[0m \u001b[38;5;28mprint\u001b[39m(a\u001b[38;5;241m.\u001b[39mindex(\u001b[38;5;124m\"\u001b[39m\u001b[38;5;124mt\u001b[39m\u001b[38;5;124m\"\u001b[39m))\n\u001b[0;32m      7\u001b[0m \u001b[38;5;66;03m# \u001b[39;00m\n\u001b[1;32m----> 8\u001b[0m \u001b[38;5;28mprint\u001b[39m(\u001b[43ma\u001b[49m\u001b[38;5;241;43m.\u001b[39;49m\u001b[43mindex\u001b[49m\u001b[43m(\u001b[49m\u001b[38;5;124;43m\"\u001b[39;49m\u001b[38;5;124;43mK\u001b[39;49m\u001b[38;5;124;43m\"\u001b[39;49m\u001b[43m)\u001b[49m)\n",
      "\u001b[1;31mValueError\u001b[0m: substring not found"
     ]
    }
   ],
   "source": [
    "# index() --> 문자열 안에 포함된 특정 문자의 위치 알려주기\n",
    "\n",
    "a = \"Life is too short\"\n",
    "\n",
    "print(a.index(\"t\"))\n",
    "\n",
    "# index 함수에서 문자열 안에 포함되지 않은 문자 입력 시 \"오류\"\n",
    "print(a.index(\"K\"))"
   ]
  },
  {
   "cell_type": "code",
   "execution_count": 117,
   "metadata": {},
   "outputs": [
    {
     "name": "stdout",
     "output_type": "stream",
     "text": [
      "h,e,l,l,o\n",
      "p/y/t/h/o/n\n"
     ]
    }
   ],
   "source": [
    "# join() --> 문자열 삽입\n",
    "\n",
    "print(\",\".join(\"hello\"))\n",
    "print(\"/\".join(\"python\"))"
   ]
  },
  {
   "cell_type": "code",
   "execution_count": 120,
   "metadata": {},
   "outputs": [
    {
     "name": "stdout",
     "output_type": "stream",
     "text": [
      "HI\n",
      "hello\n"
     ]
    }
   ],
   "source": [
    "# upper() --> 소문자를 대문자로 변환\n",
    "a = \"hi\"\n",
    "\n",
    "print(a.upper())\n",
    "\n",
    "# lower() --> 대문자를 소문자로 변환\n",
    "b = \"HELLO\"\n",
    "\n",
    "print(b.lower())"
   ]
  },
  {
   "cell_type": "code",
   "execution_count": 129,
   "metadata": {},
   "outputs": [
    {
     "name": "stdout",
     "output_type": "stream",
     "text": [
      "|     hi     |\n",
      "|hi     |\n",
      "|     hi|\n",
      "|hi|\n"
     ]
    }
   ],
   "source": [
    "a = \"     hi     \"\n",
    "print(f\"|{a}|\")\n",
    "\n",
    "# lstrip() --> 왼쪽 공백 지우기\n",
    "print(f\"|{a.lstrip()}|\")\n",
    "\n",
    "# rstrip() --> 오른쪽 공백 지우기\n",
    "print(f\"|{a.rstrip()}|\")\n",
    "\n",
    "# strip() --> 양쪽 공백 지우기\n",
    "print(f\"|{a.strip()}|\")"
   ]
  },
  {
   "cell_type": "code",
   "execution_count": 131,
   "metadata": {},
   "outputs": [
    {
     "name": "stdout",
     "output_type": "stream",
     "text": [
      "Life is too short\n",
      "Your leg is too short\n"
     ]
    }
   ],
   "source": [
    "# replace() --> 문자열 바꾸기\n",
    "a = \"Life is too short\"\n",
    "\n",
    "print(a)\n",
    "print(a.replace(\"Life\", \"Your leg\"))"
   ]
  },
  {
   "cell_type": "code",
   "execution_count": 1,
   "metadata": {},
   "outputs": [
    {
     "name": "stdout",
     "output_type": "stream",
     "text": [
      "Life is too short\n",
      "['Life', 'is', 'too', 'short']\n",
      "====================================================================================================\n",
      "a:b:c:d\n",
      "['a:b:c:d']\n",
      "['a', 'b', 'c', 'd']\n",
      "====================================================================================================\n",
      "사과,포도,수박,감자\n",
      "['사과', '포도', '수박', '감자']\n"
     ]
    }
   ],
   "source": [
    "# split() --> 문자열 나누기\n",
    "\n",
    "a = \"Life is too short\"\n",
    "\n",
    "print(a)\n",
    "print(a.split())\n",
    "\n",
    "print(\"=\" * 100)\n",
    "\n",
    "b = \"a:b:c:d\"\n",
    "\n",
    "print(b)\n",
    "print(b.split())\n",
    "print(b.split(\":\"))\n",
    "\n",
    "print(\"=\" * 100)\n",
    "\n",
    "\n",
    "c = \"사과,포도,수박,감자\"\n",
    "\n",
    "print(c)\n",
    "print(c.split(\",\"))"
   ]
  }
 ],
 "metadata": {
  "kernelspec": {
   "display_name": "Python 3",
   "language": "python",
   "name": "python3"
  },
  "language_info": {
   "codemirror_mode": {
    "name": "ipython",
    "version": 3
   },
   "file_extension": ".py",
   "mimetype": "text/x-python",
   "name": "python",
   "nbconvert_exporter": "python",
   "pygments_lexer": "ipython3",
   "version": "3.12.4"
  }
 },
 "nbformat": 4,
 "nbformat_minor": 2
}
