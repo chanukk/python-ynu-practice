{
 "cells": [
  {
   "cell_type": "markdown",
   "metadata": {},
   "source": [
    "1. 사용자로 부터 입력 받은 수를 num 이라는 변수에 담고, 그 수를 3.141592를 곱한 뒤 소수 1번째 자리까지만 나오도록 출력하세요 "
   ]
  },
  {
   "cell_type": "code",
   "execution_count": 80,
   "metadata": {},
   "outputs": [
    {
     "name": "stdout",
     "output_type": "stream",
     "text": [
      "정답 : 47.1\n",
      "당신이 입력한 숫자는 15이고,\n",
      "결과 값은 47.1 입니다.\n"
     ]
    }
   ],
   "source": [
    "# 답안\n",
    "num = input(\"숫자를 입력하세요 : \")\n",
    "print(f\"정답 : {3.141592 * int(num):.1f}\")\n",
    "\n",
    "# 해설\n",
    "print(f\"당신이 입력한 숫자는 {num}이고,\\n결과 값은 {int(num) * 3.141592:.1f} 입니다.\")\n"
   ]
  },
  {
   "cell_type": "markdown",
   "metadata": {},
   "source": [
    "2. 사용자로부터 입력받은 초(second)를 시간, 분, 초로 변환하여 출력하는 프로그램을 작성하세요 (출력예시: 1시간 1분 1초)"
   ]
  },
  {
   "cell_type": "code",
   "execution_count": 95,
   "metadata": {},
   "outputs": [
    {
     "name": "stdout",
     "output_type": "stream",
     "text": [
      "1시간 1분 1초\n",
      "============================================================================================================================\n",
      "당신이 입력한 숫자는 : 2598741\n",
      "변환한 값은 721시간 52분 21초\n"
     ]
    }
   ],
   "source": [
    "# 답안\n",
    "a = input(\"변환할 시간(초)를 입력하세요.\")\n",
    "print(f\"{a}시간 {a}분 {a}초\")\n",
    "\n",
    "print(\"=\" * 124)\n",
    "\n",
    "# 해설\n",
    "numInput = int(input(\"초를 입력해 주세요 : \"))\n",
    "hour = numInput // (60 * 60)\n",
    "minute = numInput % (60 * 60) // 60\n",
    "second = numInput % 60\n",
    "print(f\"당신이 입력한 숫자는 : {numInput}\\n변환한 값은 {hour}시간 {minute}분 {second}초\")\n"
   ]
  },
  {
   "cell_type": "markdown",
   "metadata": {},
   "source": [
    "3. 아래 스크립트에서 '올림픽'이라는 글자 몇 번 출력되는가?  \n",
    "* script = \"하계 올림픽에 48년 만에 최소 선수(144명)를 보낸 대한민국 선수단이 2024 파리 올림픽에서 거침없이 금메달을 수집 중이다.\n",
    "파리 올림픽 태권도 남자 58㎏급에 출전한 박태준(20·경희대)은 7일(현지시간) 우리나라 남자 태권도 선수로는 16년 만에 올림픽 금메달을 목에 걸고 이번 대회 한국 선수단에 12번째 금메달을 선사했다.\""
   ]
  },
  {
   "cell_type": "code",
   "execution_count": 97,
   "metadata": {},
   "outputs": [
    {
     "name": "stdout",
     "output_type": "stream",
     "text": [
      "'올림픽'이라는 글자는 4번 출력된다\n",
      "============================================================================================================================\n",
      "4\n"
     ]
    }
   ],
   "source": [
    "# 답안\n",
    "a = \"하계 올림픽에 48년 만에 최소 선수(144명)를 보낸 대한민국 선수단이 2024 파리 올림픽에서 거침없이 금메달을 수집 중이다. 파리 올림픽 태권도 남자 58㎏급에 출전한 박태준(20·경희대)은 7일(현지시간) 우리나라 남자 태권도 선수로는 16년 만에 올림픽 금메달을 목에 걸고 이번 대회 한국 선수단에 12번째 금메달을 선사했다.\"\n",
    "\n",
    "print(f\"'올림픽'이라는 글자는 {a.count(\"올림픽\")}번 출력된다\")\n",
    "\n",
    "print(\"=\" * 124)\n",
    "\n",
    "# 해설\n",
    "script = \"\"\"\n",
    "하계 올림픽에 48년 만에 최소 선수(144명)를 보낸 대한민국 선수단이 \n",
    "2024 파리 올림픽에서 거침없이 금메달을 수집 중이다. \n",
    "파리 올림픽 태권도 남자 58㎏급에 출전한 박태준(20·경희대)은 \n",
    "7일(현지시간) 우리나라 남자 태권도 선수로는 16년 만에 \n",
    "올림픽 금메달을 목에 걸고 이번 대회 한국 선수단에 12번째 금메달을 선사했다.\"\"\"\n",
    "\n",
    "print(script.count(\"올림픽\"))"
   ]
  },
  {
   "cell_type": "markdown",
   "metadata": {},
   "source": [
    "4. 위 스크립트에서 ( ) -> [ ] 변경해 주세요 "
   ]
  },
  {
   "cell_type": "code",
   "execution_count": 103,
   "metadata": {},
   "outputs": [
    {
     "name": "stdout",
     "output_type": "stream",
     "text": [
      "하계 올림픽에 48년 만에 최소 선수[144명]를 보낸 대한민국 선수단이 2024 파리 올림픽에서 거침없이 금메달을 수집 중이다. 파리 올림픽 태권도 남자 58㎏급에 출전한 박태준[20·경희대]은 7일[현지시간] 우리나라 남자 태권도 선수로는 16년 만에 올림픽 금메달을 목에 걸고 이번 대회 한국 선수단에 12번째 금메달을 선사했다.\n"
     ]
    }
   ],
   "source": [
    "# 답안\n",
    "a = \"하계 올림픽에 48년 만에 최소 선수(144명)를 보낸 대한민국 선수단이 2024 파리 올림픽에서 거침없이 금메달을 수집 중이다. 파리 올림픽 태권도 남자 58㎏급에 출전한 박태준(20·경희대)은 7일(현지시간) 우리나라 남자 태권도 선수로는 16년 만에 올림픽 금메달을 목에 걸고 이번 대회 한국 선수단에 12번째 금메달을 선사했다.\"\n",
    "\n",
    "y = a.replace(\"(\", \"[\")\n",
    "print(y.replace(\")\", \"]\"))"
   ]
  },
  {
   "cell_type": "markdown",
   "metadata": {},
   "source": [
    "5. a = \"python\" 를 [\"p\", \"y\", \"t\", \"h\", \"o\", \"n\"] 으로 만들어보세요 "
   ]
  },
  {
   "cell_type": "code",
   "execution_count": 47,
   "metadata": {},
   "outputs": [
    {
     "name": "stdout",
     "output_type": "stream",
     "text": [
      "['p', 'y', 't', 'h', 'o', 'n']\n"
     ]
    }
   ],
   "source": [
    "# 답안, 해설\n",
    "a = \"python\"\n",
    "\n",
    "b = (\",\".join(a))\n",
    "print(b.split(\",\"))"
   ]
  },
  {
   "cell_type": "markdown",
   "metadata": {},
   "source": [
    "6. 문자열 a = \"hello World from Python\" 을 [\"hello\", \"World\", \"from\", \"Python\"] 로 변환시키고 입력받은 이름을 리스트 마지막에 추가히세요 "
   ]
  },
  {
   "cell_type": "code",
   "execution_count": 107,
   "metadata": {},
   "outputs": [
    {
     "name": "stdout",
     "output_type": "stream",
     "text": [
      "[['hello', 'World', 'from', 'Python'], '최찬욱']\n",
      "['hello', 'World', 'from', 'Python', '최찬욱']\n"
     ]
    }
   ],
   "source": [
    "# 답안\n",
    "a = \"hello World from Python\"\n",
    "name = input(\"이름을 입력하세요.\")\n",
    "\n",
    "print([a.split()] + [name])\n",
    "\n",
    "# 해설\n",
    "a = \"hello World from Python\"\n",
    "b = a.split()\n",
    "name2 = input(\"당신의 이름을 입력 해 주세요 : \")\n",
    "b.append(name)\n",
    "print(b)"
   ]
  },
  {
   "cell_type": "markdown",
   "metadata": {},
   "source": [
    "7. a = [], fav = [\"사과\", \"포도\", \"배\", \"감자\", \"수박\", \"옥수수\", \"고구마\", \"딸기\"] 에서 \"딸기\"와 \"고구마\"를 뺀 나머지 리스트를 pop() 이용하여 출력하고, 추출한 \"딸기\"와 \"고구마\"를 a 리스트에 append()를 활용하여 추가하세요 "
   ]
  },
  {
   "cell_type": "code",
   "execution_count": 110,
   "metadata": {},
   "outputs": [
    {
     "name": "stdout",
     "output_type": "stream",
     "text": [
      "['사과', '포도', '배', '감자', '수박', '옥수수']\n",
      "['딸기', '고구마']\n"
     ]
    }
   ],
   "source": [
    "# 해설\n",
    "a = [] \n",
    "fav = [\"사과\", \"포도\", \"배\", \"감자\", \"수박\", \"옥수수\", \"고구마\", \"딸기\"]\n",
    "\n",
    "딸기 = fav.pop()\n",
    "고구마 = fav.pop()\n",
    "print(fav)\n",
    "\n",
    "a.append(딸기)\n",
    "a.append(고구마)\n",
    "print(a)\n"
   ]
  },
  {
   "cell_type": "markdown",
   "metadata": {},
   "source": [
    "8. fav = [\"사과\", \"포도\", \"배\", \"감자\", \"수박\", \"옥수수\", \"고구마\", \"딸기\"] 리스트 슬라이싱을 활용하여 [\"배\", \"감자\", \"수박\", \"옥수수\"] 만들어서 b 변수에 대입하세요 그리고 사용자로부터 가장 좋아하는 음식을 입력받아서 b리스트의 3번째 요소에 입력하세요 "
   ]
  },
  {
   "cell_type": "code",
   "execution_count": 113,
   "metadata": {},
   "outputs": [
    {
     "name": "stdout",
     "output_type": "stream",
     "text": [
      "['배', '감자', '수박', '옥수수']\n",
      "['배', '감자', '김치', '수박', '옥수수']\n"
     ]
    }
   ],
   "source": [
    "# 해설\n",
    "fav = [\"사과\", \"포도\", \"배\", \"감자\", \"수박\", \"옥수수\", \"고구마\", \"딸기\"]\n",
    "\n",
    "b = fav[2:6]\n",
    "print(b)\n",
    "\n",
    "food = input(\"당신이 좋아하는 음식은? : \")\n",
    "b.insert(2, food)\n",
    "print(b)"
   ]
  }
 ],
 "metadata": {
  "kernelspec": {
   "display_name": "Python 3",
   "language": "python",
   "name": "python3"
  },
  "language_info": {
   "codemirror_mode": {
    "name": "ipython",
    "version": 3
   },
   "file_extension": ".py",
   "mimetype": "text/x-python",
   "name": "python",
   "nbconvert_exporter": "python",
   "pygments_lexer": "ipython3",
   "version": "3.12.4"
  }
 },
 "nbformat": 4,
 "nbformat_minor": 2
}
